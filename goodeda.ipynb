{
 "cells": [
  {
   "cell_type": "raw",
   "metadata": {},
   "source": [
    "In addition to your interviews, we are looking to see how you use your analytical skills to translate results into business concepts and how you frame and visualize the data for the non-math speaking public. There isn't really a 'correct' interpretation of the data, instead we are looking for a clear viewpoint supported by data and cleanly stated.\n",
    "\n",
    "So included with this email is an excel file that contains a couple of data sets.  Columns A through G show paid marketing efforts through 2 different channels (columns C through F) - included in this are the 'views' of these ads, which would be simple counts of how many times they could be seen, and the 'interactions' with the ads, which count how many times users interacted with those ads (think clicks on links).  Columns I through L show the search interest of 3 relevant brand terms.  The search interest is pulled from google trends, in which terms are given a relative ranking in popularity of search (https://www.google.com/trends/explore#q=sturino).  One important note within the data is that a new product was launched in Feb-15.\n",
    "\n",
    "What we are looking for are ways in which you can use this data to understand what is going on.  Some general questions you can look into are (doesn't have to be all, can definitely be others): \n",
    "\n",
    "How do the two Mediums differ from one another? \n",
    "Is there a relationship between the paid activity, search interest, and site activity?\n",
    "What is the impact of the new product launch on site activity and search interest?\n",
    "Any thoughts on future performance?\n",
    "What additional data or information would you find helpful in this analysis?\n",
    "\n",
    "We certainly don't expect you to have to put in hours and hours into this. A 2-4 slide presentation hitting a few points would be great. Let me know if there are any questions and please let me know your availability to put this prompt together and when you would be able to present to the team!\n"
   ]
  },
  {
   "cell_type": "code",
   "execution_count": 1,
   "metadata": {},
   "outputs": [],
   "source": [
    "import pandas as pd\n",
    "import numpy as np\n",
    "import seaborn as sns"
   ]
  },
  {
   "cell_type": "code",
   "execution_count": 8,
   "metadata": {},
   "outputs": [],
   "source": [
    "paid = pd.read_csv(\"~/Workspace/GoodApple/Data/Paid.csv\") \n",
    "wkpaid = pd.read_csv(\"~/Workspace/GoodApple/Data/PaidWeekly.csv\") \n",
    "search = pd.read_csv(\"~/Workspace/GoodApple/Data/Search.csv\") "
   ]
  },
  {
   "cell_type": "code",
   "execution_count": 23,
   "metadata": {},
   "outputs": [],
   "source": [
    "#paid = paid.drop(list(paid)[7:13], axis=1) - dropped extra columns that were saved in excel sheet but empty.\n",
    "#paid.head(2)\n",
    "#wkpaid.head(2)\n",
    "#search.head(2)"
   ]
  },
  {
   "cell_type": "code",
   "execution_count": 22,
   "metadata": {},
   "outputs": [],
   "source": [
    "# - bottom 3 rows are empty\n",
    "#paid.info()\n",
    "#paid.isnull() \n",
    "#paid = paid.iloc[:-3]"
   ]
  },
  {
   "cell_type": "code",
   "execution_count": 26,
   "metadata": {},
   "outputs": [],
   "source": [
    "#wkpaid.info()\n",
    "#search.info()"
   ]
  },
  {
   "cell_type": "code",
   "execution_count": 28,
   "metadata": {},
   "outputs": [],
   "source": [
    "#paid.describe() - usually I start here to get a feel of the df, but this did not help."
   ]
  },
  {
   "cell_type": "code",
   "execution_count": null,
   "metadata": {},
   "outputs": [],
   "source": []
  }
 ],
 "metadata": {
  "kernelspec": {
   "display_name": "Python 3",
   "language": "python",
   "name": "python3"
  },
  "language_info": {
   "codemirror_mode": {
    "name": "ipython",
    "version": 3
   },
   "file_extension": ".py",
   "mimetype": "text/x-python",
   "name": "python",
   "nbconvert_exporter": "python",
   "pygments_lexer": "ipython3",
   "version": "3.7.7"
  }
 },
 "nbformat": 4,
 "nbformat_minor": 4
}
